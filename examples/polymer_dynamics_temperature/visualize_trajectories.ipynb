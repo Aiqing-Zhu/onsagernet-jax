{
 "cells": [
  {
   "cell_type": "markdown",
   "metadata": {},
   "source": [
    "# Visualize trajectories"
   ]
  },
  {
   "cell_type": "code",
   "execution_count": 1,
   "metadata": {},
   "outputs": [],
   "source": [
    "from datasets import load_dataset\n",
    "import matplotlib.pyplot as plt\n",
    "import numpy as np\n",
    "from ipywidgets import interact, FloatSlider\n",
    "import re"
   ]
  },
  {
   "cell_type": "code",
   "execution_count": 2,
   "metadata": {},
   "outputs": [
    {
     "data": {
      "application/vnd.jupyter.widget-view+json": {
       "model_id": "4d9f70c15b3b46afbd9bbb4c84ad637e",
       "version_major": 2,
       "version_minor": 0
      },
      "text/plain": [
       "README.md:   0%|          | 0.00/3.13k [00:00<?, ?B/s]"
      ]
     },
     "metadata": {},
     "output_type": "display_data"
    },
    {
     "name": "stderr",
     "output_type": "stream",
     "text": [
      "c:\\Users\\sohwy\\AppData\\Local\\pypoetry\\Cache\\virtualenvs\\onsagernet-PbgjltZG-py3.12\\Lib\\site-packages\\huggingface_hub\\file_download.py:159: UserWarning: `huggingface_hub` cache-system uses symlinks by default to efficiently store duplicated files but your machine does not support them in C:\\Users\\sohwy\\.cache\\huggingface\\hub\\datasets--MLDS-NUS--Fs_T_Reduced. Caching files will still work but in a degraded version that might require more space on your disk. This warning can be disabled by setting the `HF_HUB_DISABLE_SYMLINKS_WARNING` environment variable. For more details, see https://huggingface.co/docs/huggingface_hub/how-to-cache#limitations.\n",
      "To support symlinks on Windows, you either need to activate Developer Mode or to run Python as an administrator. In order to see activate developer mode, see this article: https://docs.microsoft.com/en-us/windows/apps/get-started/enable-your-device-for-development\n",
      "  warnings.warn(message)\n"
     ]
    },
    {
     "data": {
      "application/vnd.jupyter.widget-view+json": {
       "model_id": "60051ae1157344fa96f1a6cf56206cd2",
       "version_major": 2,
       "version_minor": 0
      },
      "text/plain": [
       "F23_10_T0_25-00000-of-00001.parquet:   0%|          | 0.00/30.2M [00:00<?, ?B/s]"
      ]
     },
     "metadata": {},
     "output_type": "display_data"
    },
    {
     "data": {
      "application/vnd.jupyter.widget-view+json": {
       "model_id": "56d614f802e842248e19c745a1c754a6",
       "version_major": 2,
       "version_minor": 0
      },
      "text/plain": [
       "F23_10_T0_5-00000-of-00001.parquet:   0%|          | 0.00/30.3M [00:00<?, ?B/s]"
      ]
     },
     "metadata": {},
     "output_type": "display_data"
    },
    {
     "data": {
      "application/vnd.jupyter.widget-view+json": {
       "model_id": "4e2b70b4529a4904a48c1977b490cd73",
       "version_major": 2,
       "version_minor": 0
      },
      "text/plain": [
       "F23_10_T2_25-00000-of-00001.parquet:   0%|          | 0.00/30.3M [00:00<?, ?B/s]"
      ]
     },
     "metadata": {},
     "output_type": "display_data"
    },
    {
     "data": {
      "application/vnd.jupyter.widget-view+json": {
       "model_id": "30eba40d9ed84ce08441927449f89654",
       "version_major": 2,
       "version_minor": 0
      },
      "text/plain": [
       "F23_10_T5-00000-of-00001.parquet:   0%|          | 0.00/30.3M [00:00<?, ?B/s]"
      ]
     },
     "metadata": {},
     "output_type": "display_data"
    },
    {
     "data": {
      "application/vnd.jupyter.widget-view+json": {
       "model_id": "b371d0631016419380876e8d97733c94",
       "version_major": 2,
       "version_minor": 0
      },
      "text/plain": [
       "F23_10_T10-00000-of-00001.parquet:   0%|          | 0.00/30.3M [00:00<?, ?B/s]"
      ]
     },
     "metadata": {},
     "output_type": "display_data"
    },
    {
     "data": {
      "application/vnd.jupyter.widget-view+json": {
       "model_id": "66b98158f3994ae99545551546997e63",
       "version_major": 2,
       "version_minor": 0
      },
      "text/plain": [
       "F1_62_T1-00000-of-00001.parquet:   0%|          | 0.00/76.0M [00:00<?, ?B/s]"
      ]
     },
     "metadata": {},
     "output_type": "display_data"
    },
    {
     "data": {
      "application/vnd.jupyter.widget-view+json": {
       "model_id": "a0ef791d4b1248e9844c317dae4d5762",
       "version_major": 2,
       "version_minor": 0
      },
      "text/plain": [
       "F1_62_T10-00000-of-00001.parquet:   0%|          | 0.00/157M [00:00<?, ?B/s]"
      ]
     },
     "metadata": {},
     "output_type": "display_data"
    },
    {
     "data": {
      "application/vnd.jupyter.widget-view+json": {
       "model_id": "1f81309dc9f949e8b8b74ac555972835",
       "version_major": 2,
       "version_minor": 0
      },
      "text/plain": [
       "F1_62_T5-00000-of-00001.parquet:   0%|          | 0.00/157M [00:00<?, ?B/s]"
      ]
     },
     "metadata": {},
     "output_type": "display_data"
    },
    {
     "data": {
      "application/vnd.jupyter.widget-view+json": {
       "model_id": "d9fd1b4ebe324c8783052b716a4028e1",
       "version_major": 2,
       "version_minor": 0
      },
      "text/plain": [
       "F1_62_T2_25-00000-of-00001.parquet:   0%|          | 0.00/157M [00:00<?, ?B/s]"
      ]
     },
     "metadata": {},
     "output_type": "display_data"
    },
    {
     "data": {
      "application/vnd.jupyter.widget-view+json": {
       "model_id": "d90cf721343f4538ac089de4b152da7e",
       "version_major": 2,
       "version_minor": 0
      },
      "text/plain": [
       "F1_62_T0_25-00000-of-00001.parquet:   0%|          | 0.00/157M [00:00<?, ?B/s]"
      ]
     },
     "metadata": {},
     "output_type": "display_data"
    },
    {
     "data": {
      "application/vnd.jupyter.widget-view+json": {
       "model_id": "32627da8ed4549e59a5c8b001152d33c",
       "version_major": 2,
       "version_minor": 0
      },
      "text/plain": [
       "F1_62_T0_5-00000-of-00001.parquet:   0%|          | 0.00/157M [00:00<?, ?B/s]"
      ]
     },
     "metadata": {},
     "output_type": "display_data"
    },
    {
     "data": {
      "application/vnd.jupyter.widget-view+json": {
       "model_id": "3f311008fa914f5ab0f2711d76859f44",
       "version_major": 2,
       "version_minor": 0
      },
      "text/plain": [
       "F3_92_T2_25-00000-of-00001.parquet:   0%|          | 0.00/76.0M [00:00<?, ?B/s]"
      ]
     },
     "metadata": {},
     "output_type": "display_data"
    },
    {
     "data": {
      "application/vnd.jupyter.widget-view+json": {
       "model_id": "f58e4263ee404aeb83ea0c9bf9a59e51",
       "version_major": 2,
       "version_minor": 0
      },
      "text/plain": [
       "F0_38_T0_25-00000-of-00002.parquet:   0%|          | 0.00/158M [00:00<?, ?B/s]"
      ]
     },
     "metadata": {},
     "output_type": "display_data"
    },
    {
     "data": {
      "application/vnd.jupyter.widget-view+json": {
       "model_id": "5b9c5de4769b4b6994c0f43d5f236a8f",
       "version_major": 2,
       "version_minor": 0
      },
      "text/plain": [
       "F0_38_T0_25-00001-of-00002.parquet:   0%|          | 0.00/158M [00:00<?, ?B/s]"
      ]
     },
     "metadata": {},
     "output_type": "display_data"
    },
    {
     "data": {
      "application/vnd.jupyter.widget-view+json": {
       "model_id": "9de6c1b38f2b46899c5df32b21eb40a9",
       "version_major": 2,
       "version_minor": 0
      },
      "text/plain": [
       "F2_31_T1-00000-of-00001.parquet:   0%|          | 0.00/76.0M [00:00<?, ?B/s]"
      ]
     },
     "metadata": {},
     "output_type": "display_data"
    },
    {
     "data": {
      "application/vnd.jupyter.widget-view+json": {
       "model_id": "932ad5111b3e4e9eb17217236489f979",
       "version_major": 2,
       "version_minor": 0
      },
      "text/plain": [
       "F2_78_T1-00000-of-00001.parquet:   0%|          | 0.00/62.7M [00:00<?, ?B/s]"
      ]
     },
     "metadata": {},
     "output_type": "display_data"
    },
    {
     "data": {
      "application/vnd.jupyter.widget-view+json": {
       "model_id": "432821a14e974e879245982b009097d4",
       "version_major": 2,
       "version_minor": 0
      },
      "text/plain": [
       "F3_93_T1-00000-of-00001.parquet:   0%|          | 0.00/54.9M [00:00<?, ?B/s]"
      ]
     },
     "metadata": {},
     "output_type": "display_data"
    },
    {
     "data": {
      "application/vnd.jupyter.widget-view+json": {
       "model_id": "0c0efc1f049146af863b64d820042a61",
       "version_major": 2,
       "version_minor": 0
      },
      "text/plain": [
       "F4_63_T1-00000-of-00001.parquet:   0%|          | 0.00/54.9M [00:00<?, ?B/s]"
      ]
     },
     "metadata": {},
     "output_type": "display_data"
    },
    {
     "data": {
      "application/vnd.jupyter.widget-view+json": {
       "model_id": "6007580bf5cb4e05a6b3fb10a231059f",
       "version_major": 2,
       "version_minor": 0
      },
      "text/plain": [
       "F11_60_T1-00000-of-00001.parquet:   0%|          | 0.00/30.3M [00:00<?, ?B/s]"
      ]
     },
     "metadata": {},
     "output_type": "display_data"
    },
    {
     "data": {
      "application/vnd.jupyter.widget-view+json": {
       "model_id": "90facd69eb864ddbab36f0cc2f615fcc",
       "version_major": 2,
       "version_minor": 0
      },
      "text/plain": [
       "F16_20_T1-00000-of-00001.parquet:   0%|          | 0.00/30.3M [00:00<?, ?B/s]"
      ]
     },
     "metadata": {},
     "output_type": "display_data"
    },
    {
     "data": {
      "application/vnd.jupyter.widget-view+json": {
       "model_id": "25df34a9b07440848d7b2e5175bbcc01",
       "version_major": 2,
       "version_minor": 0
      },
      "text/plain": [
       "F56_00_T2_25-00000-of-00001.parquet:   0%|          | 0.00/30.3M [00:00<?, ?B/s]"
      ]
     },
     "metadata": {},
     "output_type": "display_data"
    },
    {
     "data": {
      "application/vnd.jupyter.widget-view+json": {
       "model_id": "535f1cecc35c41de8e4356e2260ffba5",
       "version_major": 2,
       "version_minor": 0
      },
      "text/plain": [
       "F5_47_T0_25-00000-of-00001.parquet:   0%|          | 0.00/157M [00:00<?, ?B/s]"
      ]
     },
     "metadata": {},
     "output_type": "display_data"
    },
    {
     "data": {
      "application/vnd.jupyter.widget-view+json": {
       "model_id": "3354a3a375dd4d79bb1f1757c7994532",
       "version_major": 2,
       "version_minor": 0
      },
      "text/plain": [
       "F23_10_T1-00000-of-00001.parquet:   0%|          | 0.00/30.3M [00:00<?, ?B/s]"
      ]
     },
     "metadata": {},
     "output_type": "display_data"
    },
    {
     "data": {
      "application/vnd.jupyter.widget-view+json": {
       "model_id": "2d492cde7d2c4444ab5aa30fda424b76",
       "version_major": 2,
       "version_minor": 0
      },
      "text/plain": [
       "F11_60_T0_75-00000-of-00001.parquet:   0%|          | 0.00/157M [00:00<?, ?B/s]"
      ]
     },
     "metadata": {},
     "output_type": "display_data"
    },
    {
     "data": {
      "application/vnd.jupyter.widget-view+json": {
       "model_id": "0ccf2187d0554bc981a76cfef2eccc26",
       "version_major": 2,
       "version_minor": 0
      },
      "text/plain": [
       "F11_60_T4-00000-of-00001.parquet:   0%|          | 0.00/157M [00:00<?, ?B/s]"
      ]
     },
     "metadata": {},
     "output_type": "display_data"
    },
    {
     "data": {
      "application/vnd.jupyter.widget-view+json": {
       "model_id": "c53cbc178f394d44b8960332e704ff65",
       "version_major": 2,
       "version_minor": 0
      },
      "text/plain": [
       "Generating F23_10_T0_25 split:   0%|          | 0/1220 [00:00<?, ? examples/s]"
      ]
     },
     "metadata": {},
     "output_type": "display_data"
    },
    {
     "data": {
      "application/vnd.jupyter.widget-view+json": {
       "model_id": "3a67d0887dea49b2bc0a3af5058b29f9",
       "version_major": 2,
       "version_minor": 0
      },
      "text/plain": [
       "Generating F23_10_T0_5 split:   0%|          | 0/1220 [00:00<?, ? examples/s]"
      ]
     },
     "metadata": {},
     "output_type": "display_data"
    },
    {
     "data": {
      "application/vnd.jupyter.widget-view+json": {
       "model_id": "cfa9798d19804259a044adee5e42c29b",
       "version_major": 2,
       "version_minor": 0
      },
      "text/plain": [
       "Generating F23_10_T2_25 split:   0%|          | 0/1220 [00:00<?, ? examples/s]"
      ]
     },
     "metadata": {},
     "output_type": "display_data"
    },
    {
     "data": {
      "application/vnd.jupyter.widget-view+json": {
       "model_id": "e14370c8be2e49d39237e6ad8bea5f7b",
       "version_major": 2,
       "version_minor": 0
      },
      "text/plain": [
       "Generating F23_10_T5 split:   0%|          | 0/1220 [00:00<?, ? examples/s]"
      ]
     },
     "metadata": {},
     "output_type": "display_data"
    },
    {
     "data": {
      "application/vnd.jupyter.widget-view+json": {
       "model_id": "c58f8697e9b44b13966e7396172ec0d2",
       "version_major": 2,
       "version_minor": 0
      },
      "text/plain": [
       "Generating F23_10_T10 split:   0%|          | 0/1220 [00:00<?, ? examples/s]"
      ]
     },
     "metadata": {},
     "output_type": "display_data"
    },
    {
     "data": {
      "application/vnd.jupyter.widget-view+json": {
       "model_id": "90eb578b70b744c18c103428e37de08c",
       "version_major": 2,
       "version_minor": 0
      },
      "text/plain": [
       "Generating F1_62_T1 split:   0%|          | 0/1220 [00:00<?, ? examples/s]"
      ]
     },
     "metadata": {},
     "output_type": "display_data"
    },
    {
     "data": {
      "application/vnd.jupyter.widget-view+json": {
       "model_id": "e338e636f395485eab3f0d6498136376",
       "version_major": 2,
       "version_minor": 0
      },
      "text/plain": [
       "Generating F1_62_T10 split:   0%|          | 0/1220 [00:00<?, ? examples/s]"
      ]
     },
     "metadata": {},
     "output_type": "display_data"
    },
    {
     "data": {
      "application/vnd.jupyter.widget-view+json": {
       "model_id": "63f526d2228b4e88a4539c4463e1f9dc",
       "version_major": 2,
       "version_minor": 0
      },
      "text/plain": [
       "Generating F1_62_T5 split:   0%|          | 0/1220 [00:00<?, ? examples/s]"
      ]
     },
     "metadata": {},
     "output_type": "display_data"
    },
    {
     "data": {
      "application/vnd.jupyter.widget-view+json": {
       "model_id": "0c824540a82e4b8ebc8b70e6afbf8bf3",
       "version_major": 2,
       "version_minor": 0
      },
      "text/plain": [
       "Generating F1_62_T2_25 split:   0%|          | 0/1220 [00:00<?, ? examples/s]"
      ]
     },
     "metadata": {},
     "output_type": "display_data"
    },
    {
     "data": {
      "application/vnd.jupyter.widget-view+json": {
       "model_id": "f494a923122745268bd74445b643b933",
       "version_major": 2,
       "version_minor": 0
      },
      "text/plain": [
       "Generating F1_62_T0_25 split:   0%|          | 0/1220 [00:00<?, ? examples/s]"
      ]
     },
     "metadata": {},
     "output_type": "display_data"
    },
    {
     "data": {
      "application/vnd.jupyter.widget-view+json": {
       "model_id": "f936a8fd48224446959973c6a42867fc",
       "version_major": 2,
       "version_minor": 0
      },
      "text/plain": [
       "Generating F1_62_T0_5 split:   0%|          | 0/1220 [00:00<?, ? examples/s]"
      ]
     },
     "metadata": {},
     "output_type": "display_data"
    },
    {
     "data": {
      "application/vnd.jupyter.widget-view+json": {
       "model_id": "06922c1e3f2344e68967df552597838c",
       "version_major": 2,
       "version_minor": 0
      },
      "text/plain": [
       "Generating F3_92_T2_25 split:   0%|          | 0/1220 [00:00<?, ? examples/s]"
      ]
     },
     "metadata": {},
     "output_type": "display_data"
    },
    {
     "data": {
      "application/vnd.jupyter.widget-view+json": {
       "model_id": "b72405cb9f14438ea61ccf7e1de36b8b",
       "version_major": 2,
       "version_minor": 0
      },
      "text/plain": [
       "Generating F0_38_T0_25 split:   0%|          | 0/1220 [00:00<?, ? examples/s]"
      ]
     },
     "metadata": {},
     "output_type": "display_data"
    },
    {
     "data": {
      "application/vnd.jupyter.widget-view+json": {
       "model_id": "d402564794ad4383adb90a262f7e1633",
       "version_major": 2,
       "version_minor": 0
      },
      "text/plain": [
       "Generating F2_31_T1 split:   0%|          | 0/1220 [00:00<?, ? examples/s]"
      ]
     },
     "metadata": {},
     "output_type": "display_data"
    },
    {
     "data": {
      "application/vnd.jupyter.widget-view+json": {
       "model_id": "f4d53d99ef044dc981ccafad34ca55b1",
       "version_major": 2,
       "version_minor": 0
      },
      "text/plain": [
       "Generating F2_78_T1 split:   0%|          | 0/1220 [00:00<?, ? examples/s]"
      ]
     },
     "metadata": {},
     "output_type": "display_data"
    },
    {
     "data": {
      "application/vnd.jupyter.widget-view+json": {
       "model_id": "ca9babc1d77d41e1bd29edd0db99fe7f",
       "version_major": 2,
       "version_minor": 0
      },
      "text/plain": [
       "Generating F3_93_T1 split:   0%|          | 0/1220 [00:00<?, ? examples/s]"
      ]
     },
     "metadata": {},
     "output_type": "display_data"
    },
    {
     "data": {
      "application/vnd.jupyter.widget-view+json": {
       "model_id": "3d7447c94fb7474f82b33c55da3daf1b",
       "version_major": 2,
       "version_minor": 0
      },
      "text/plain": [
       "Generating F4_63_T1 split:   0%|          | 0/1220 [00:00<?, ? examples/s]"
      ]
     },
     "metadata": {},
     "output_type": "display_data"
    },
    {
     "data": {
      "application/vnd.jupyter.widget-view+json": {
       "model_id": "7f628ea4cede467bbb4b1045459cfe94",
       "version_major": 2,
       "version_minor": 0
      },
      "text/plain": [
       "Generating F11_60_T1 split:   0%|          | 0/1220 [00:00<?, ? examples/s]"
      ]
     },
     "metadata": {},
     "output_type": "display_data"
    },
    {
     "data": {
      "application/vnd.jupyter.widget-view+json": {
       "model_id": "bb18c213266b46a189a1d608f99a8aa6",
       "version_major": 2,
       "version_minor": 0
      },
      "text/plain": [
       "Generating F16_20_T1 split:   0%|          | 0/1220 [00:00<?, ? examples/s]"
      ]
     },
     "metadata": {},
     "output_type": "display_data"
    },
    {
     "data": {
      "application/vnd.jupyter.widget-view+json": {
       "model_id": "ebedd4605acc47fa9512d27f4943008a",
       "version_major": 2,
       "version_minor": 0
      },
      "text/plain": [
       "Generating F56_00_T2_25 split:   0%|          | 0/1220 [00:00<?, ? examples/s]"
      ]
     },
     "metadata": {},
     "output_type": "display_data"
    },
    {
     "data": {
      "application/vnd.jupyter.widget-view+json": {
       "model_id": "4680235ed71444d39be556b290a02249",
       "version_major": 2,
       "version_minor": 0
      },
      "text/plain": [
       "Generating F5_47_T0_25 split:   0%|          | 0/1220 [00:00<?, ? examples/s]"
      ]
     },
     "metadata": {},
     "output_type": "display_data"
    },
    {
     "data": {
      "application/vnd.jupyter.widget-view+json": {
       "model_id": "3a0420f7ab524a4c83b5bbdbe2474b51",
       "version_major": 2,
       "version_minor": 0
      },
      "text/plain": [
       "Generating F23_10_T1 split:   0%|          | 0/1220 [00:00<?, ? examples/s]"
      ]
     },
     "metadata": {},
     "output_type": "display_data"
    },
    {
     "data": {
      "application/vnd.jupyter.widget-view+json": {
       "model_id": "ef24e18d909140df917d799aa5d2a34c",
       "version_major": 2,
       "version_minor": 0
      },
      "text/plain": [
       "Generating F11_60_T0_75 split:   0%|          | 0/1220 [00:00<?, ? examples/s]"
      ]
     },
     "metadata": {},
     "output_type": "display_data"
    },
    {
     "data": {
      "application/vnd.jupyter.widget-view+json": {
       "model_id": "3977a3333fed4f9b8e901afc1e079070",
       "version_major": 2,
       "version_minor": 0
      },
      "text/plain": [
       "Generating F11_60_T4 split:   0%|          | 0/1220 [00:00<?, ? examples/s]"
      ]
     },
     "metadata": {},
     "output_type": "display_data"
    }
   ],
   "source": [
    "# Step 1: Load dataset \n",
    "dataset_name = \"MLDS-NUS/Fs_T_Reduced\"  \n",
    "ds = load_dataset(dataset_name)"
   ]
  },
  {
   "cell_type": "code",
   "execution_count": 3,
   "metadata": {},
   "outputs": [],
   "source": [
    "# Step 2: Parse split keys\n",
    "def parse_split_key(key):\n",
    "    match = re.match(r\"F(\\d+)_(\\d+)_T(\\d+)(?:_(\\d+))?\", key)\n",
    "    if not match:\n",
    "        return None\n",
    "    F_whole, F_frac, T_whole, T_frac = match.groups()\n",
    "    F = float(f\"{F_whole}.{F_frac}\")\n",
    "    T = float(f\"{T_whole}.{T_frac}\") if T_frac else float(T_whole)\n",
    "    return (T, F)"
   ]
  },
  {
   "cell_type": "code",
   "execution_count": 4,
   "metadata": {},
   "outputs": [],
   "source": [
    "# Step 3: Build list of valid (T, F) pairs and mapping\n",
    "split_keys = list(ds.keys())\n",
    "conditions = [parse_split_key(k) for k in split_keys if parse_split_key(k)]\n",
    "T_vals, F_vals = zip(*conditions)\n",
    "split_dict = {cond: key for cond, key in zip(conditions, split_keys)}\n"
   ]
  },
  {
   "cell_type": "code",
   "execution_count": 30,
   "metadata": {},
   "outputs": [],
   "source": [
    "# Step 4: Plot function\n",
    "def plot_trajectory(T, F):\n",
    "    key = split_dict.get((T, F))\n",
    "    if key is None:\n",
    "        print(f\"No data found for T={T}, F={F}\")\n",
    "        return\n",
    "\n",
    "    data = ds[key]\n",
    "    arr = np.array(data['x'])  # shape: (1220, 1001, 3)\n",
    "\n",
    "    # First 610 trajectories, first variable\n",
    "    trajs_scaled = arr[:610, :, 0]\n",
    "\n",
    "    Z_mean = 208.21994500581388\n",
    "    Z_std = 69.79624239435213\n",
    "    trajs = trajs_scaled * Z_std + Z_mean\n",
    "\n",
    "    logF = np.log10(2000 * F * 10 **-4)\n",
    "\n",
    "    # Plot\n",
    "    fig, ax = plt.subplots(figsize=(10, 6))\n",
    "    for traj in trajs:\n",
    "        ax.plot(traj, alpha=0.2, linewidth=0.5)\n",
    "\n",
    "    ax.set_xlabel('Time step')\n",
    "    ax.set_ylabel('Trajectory')\n",
    "    ax.set_title(f'T={T}, F={F}')\n",
    "    ax.grid(True)\n",
    "\n",
    "    # Annotate in bottom right corner\n",
    "    ax.text(0.98, 0.02, f\"log(2000F) ≈ {logF:.2f}\",\n",
    "            transform=ax.transAxes,\n",
    "            ha='right', va='bottom',\n",
    "            fontsize=10, bbox=dict(boxstyle=\"round\", facecolor=\"white\", alpha=0.6))\n",
    "\n",
    "    plt.tight_layout()\n",
    "    plt.show()"
   ]
  },
  {
   "cell_type": "code",
   "execution_count": null,
   "metadata": {},
   "outputs": [
    {
     "data": {
      "application/vnd.jupyter.widget-view+json": {
       "model_id": "cba361ea04374b338f81bee22c6668d6",
       "version_major": 2,
       "version_minor": 0
      },
      "text/plain": [
       "interactive(children=(FloatSlider(value=0.25, description='T', max=10.0, min=0.25, step=0.01), FloatSlider(val…"
      ]
     },
     "metadata": {},
     "output_type": "display_data"
    }
   ],
   "source": [
    "# Step 5: Interact with sliders (rounding to closest valid condition)\n",
    "T_slider = FloatSlider(value=T_vals[0], min=min(T_vals), max=max(T_vals), step=0.01, description='T')\n",
    "F_slider = FloatSlider(value=F_vals[0], min=min(F_vals), max=max(F_vals), step=0.01, description='F')\n",
    "\n",
    "@interact(T=T_slider, F=F_slider)\n",
    "def interactive_plot(T, F):\n",
    "    # Snap to nearest available values\n",
    "    T_nearest = min(T_vals, key=lambda x: abs(x - T))\n",
    "    F_nearest = min(F_vals, key=lambda x: abs(x - F))\n",
    "    plot_trajectory(T_nearest, F_nearest)\n"
   ]
  },
  {
   "cell_type": "code",
   "execution_count": null,
   "metadata": {},
   "outputs": [],
   "source": []
  }
 ],
 "metadata": {
  "kernelspec": {
   "display_name": "onsagernet-PbgjltZG-py3.12",
   "language": "python",
   "name": "python3"
  },
  "language_info": {
   "codemirror_mode": {
    "name": "ipython",
    "version": 3
   },
   "file_extension": ".py",
   "mimetype": "text/x-python",
   "name": "python",
   "nbconvert_exporter": "python",
   "pygments_lexer": "ipython3",
   "version": "3.12.0"
  }
 },
 "nbformat": 4,
 "nbformat_minor": 2
}
