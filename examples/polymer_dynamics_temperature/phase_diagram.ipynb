{
 "cells": [
  {
   "cell_type": "markdown",
   "id": "2876cbdc",
   "metadata": {},
   "source": [
    "# Exploration of the phase diagram of the Polymer dynamics model"
   ]
  },
  {
   "cell_type": "code",
   "execution_count": null,
   "id": "83325fb1",
   "metadata": {},
   "outputs": [],
   "source": [
    "import os\n",
    "import jax\n",
    "jax.config.update(\"jax_enable_x64\", True)\n",
    "import jax.numpy as jnp\n",
    "import jax.random as jr\n",
    "import equinox as eqx\n",
    "import matplotlib.pyplot as plt\n",
    "import seaborn as sns; sns.set_theme()\n",
    "import numpy as np\n",
    "from tqdm.notebook import tqdm"
   ]
  },
  {
   "cell_type": "markdown",
   "id": "d4279b81",
   "metadata": {},
   "source": [
    "## Load model"
   ]
  },
  {
   "cell_type": "code",
   "execution_count": 2,
   "id": "6d956dbc",
   "metadata": {},
   "outputs": [],
   "source": [
    "from omegaconf import OmegaConf\n",
    "from polymer_dynamics_temperature import build_model\n",
    "# path = \"outputs/2025_04_18-11_06_46\"  # working checkpoing with (W and M having dependence on T and Wi)\n",
    "path = \"outputs/2025_04_19-13_26_20\"  # working checkpoint with (W and M having dependence on T and F)\n",
    "config = OmegaConf.load(os.path.join(path, \".hydra/config.yaml\"))\n",
    "model_template = build_model(config)\n",
    "trained_model = eqx.tree_deserialise_leaves(os.path.join(path, \"model.eqx\"), model_template)"
   ]
  },
  {
   "cell_type": "markdown",
   "id": "66e2e1e6",
   "metadata": {},
   "source": [
    "## Build potential function"
   ]
  },
  {
   "cell_type": "code",
   "execution_count": 3,
   "id": "a9a49af6",
   "metadata": {},
   "outputs": [],
   "source": [
    "@jax.jit\n",
    "def V(z1, z2, z3, T, F):\n",
    "    args = jnp.array([T, F])\n",
    "    coords = jnp.array([z1, z2, z3])\n",
    "    return trained_model.potential(coords, args)"
   ]
  },
  {
   "cell_type": "markdown",
   "id": "b48c1d35",
   "metadata": {},
   "source": [
    "## Visualisation of the potential"
   ]
  },
  {
   "cell_type": "code",
   "execution_count": 4,
   "id": "d4faf75e",
   "metadata": {},
   "outputs": [],
   "source": [
    "z1_min, z1_max = -4, 2.5\n",
    "z2_min, z2_max = -3, 3\n",
    "z3_min, z3_max = -6, 6\n",
    "num_samples_aux_dimension = 128  # number of samples to take infimum over\n",
    "\n",
    "@jax.jit\n",
    "def V_12(z1, z2, T, F):\n",
    "    z3_test_range = jnp.linspace(z3_min, z3_max, num_samples_aux_dimension)\n",
    "    return jnp.min(jax.vmap(V, (None, None, 0, None, None))(z1, z2, z3_test_range, T, F))"
   ]
  },
  {
   "cell_type": "code",
   "execution_count": 5,
   "id": "ae9f5035",
   "metadata": {},
   "outputs": [
    {
     "data": {
      "application/vnd.jupyter.widget-view+json": {
       "model_id": "0b910d14bb4743e28fba05ae08f06c0e",
       "version_major": 2,
       "version_minor": 0
      },
      "text/plain": [
       "interactive(children=(FloatSlider(value=1.5, description='T', max=10.0, min=0.01), FloatSlider(value=0.0, desc…"
      ]
     },
     "metadata": {},
     "output_type": "display_data"
    }
   ],
   "source": [
    "from ipywidgets import interact, FloatSlider\n",
    "\n",
    "num_grid = 100\n",
    "num_levels = 200\n",
    "level_start = 0.0\n",
    "level_end = 500.0\n",
    "custom_levels = jnp.linspace(level_start, level_end, num_levels)\n",
    "\n",
    "def get_V_12(T, F):\n",
    "    z1_range = jnp.linspace(z1_min, z1_max, num_grid)\n",
    "    z2_range = jnp.linspace(z2_min, z2_max, num_grid)\n",
    "    Z1, Z2 = jnp.meshgrid(z1_range, z2_range)\n",
    "    V12_grid = jax.vmap(V_12, in_axes=(0, 0, None, None))(Z1.ravel(), Z2.ravel(), T, F).reshape(Z1.shape)\n",
    "    return Z1, Z2, V12_grid\n",
    "\n",
    "\n",
    "def plot_potential_contour(T, F):\n",
    "    # Get the Z1, Z2 meshgrid and V12_grid values\n",
    "    Z1, Z2, V12_grid = get_V_12(T=T, F=F)\n",
    "\n",
    "    # Clip values to avoid extremely high values that distort the visualization\n",
    "    # V12_grid = jnp.clip(V12_grid, a_min=0.0, a_max=level_end)\n",
    "\n",
    "    # Create figure and axis\n",
    "    fig, ax = plt.subplots(figsize=(10, 8))\n",
    "\n",
    "    # Create contour plot with the custom levels\n",
    "    contour = ax.contour(Z1, Z2, V12_grid, levels=custom_levels)\n",
    "    contourf = ax.contourf(Z1, Z2, V12_grid, levels=custom_levels, cmap='viridis', alpha=0.7)\n",
    "\n",
    "    # Add labels and title\n",
    "    ax.set_xlabel(r'$Z_1$')\n",
    "    ax.set_ylabel(r'$Z_2$')\n",
    "    ax.set_title(f'Potential Landscape $V_{{12}}$ (T={T:.2f}, F={F:.2f})')\n",
    "\n",
    "    # Add a color bar\n",
    "    cbar = fig.colorbar(contourf, ax=ax)\n",
    "    cbar.set_label('Potential Energy')\n",
    "\n",
    "    plt.tight_layout()\n",
    "    plt.show()\n",
    "\n",
    "# Create sliders for T and F\n",
    "interact(plot_potential_contour,\n",
    "         T=FloatSlider(value=1.5, min=0.01, max=10.0, step=0.1, description='T'),\n",
    "         F=FloatSlider(value=0.0, min=-1.1, max=1.1, step=0.1, description='F'));"
   ]
  },
  {
   "cell_type": "markdown",
   "id": "b9a20fee",
   "metadata": {},
   "source": [
    "## Method 1: Use Euler Characteristics"
   ]
  },
  {
   "cell_type": "markdown",
   "id": "629d692d",
   "metadata": {},
   "source": [
    "### Prepare Euler char data"
   ]
  },
  {
   "cell_type": "code",
   "execution_count": 6,
   "id": "2f151517",
   "metadata": {},
   "outputs": [],
   "source": [
    "from skimage.measure import euler_number   # works for 3-D volumes\n",
    "from scipy.ndimage import gaussian_filter"
   ]
  },
  {
   "cell_type": "markdown",
   "id": "ffb8f8d0",
   "metadata": {},
   "source": [
    "#### Euler Char for single instance of T, F"
   ]
  },
  {
   "cell_type": "code",
   "execution_count": 30,
   "id": "176efad2",
   "metadata": {},
   "outputs": [],
   "source": [
    "num_samples = 64\n",
    "\n",
    "# Create meshgrid\n",
    "z1_vals = jnp.linspace(z1_min, z1_max, num_samples)\n",
    "z2_vals = jnp.linspace(z2_min, z2_max, num_samples)\n",
    "z3_vals = jnp.linspace(z3_min, z3_max, num_samples)\n",
    "\n",
    "z1_grid, z2_grid, z3_grid = jnp.meshgrid(z1_vals, z2_vals, z3_vals, indexing='ij')\n",
    "points_3d = jnp.stack([z1_grid, z2_grid, z3_grid], axis=-1)\n",
    "points = points_3d.reshape(-1, 3)  # shape: [num_points, 3]"
   ]
  },
  {
   "cell_type": "code",
   "execution_count": 31,
   "id": "b5178567",
   "metadata": {},
   "outputs": [],
   "source": [
    "def euler_curve(Vgrid, thresholds, sigma=None):\n",
    "    Vg = gaussian_filter(Vgrid, sigma=sigma) if sigma else Vgrid\n",
    "    return np.array([euler_number(Vg <= a, connectivity=3) for a in thresholds])\n",
    "\n",
    "def get_chi(T, F, offset=50.0, num_levels=512, sigma=1.5):\n",
    "    V_grid = jax.vmap(V, (0, 0, 0, None, None))(points[:, 0], points[:, 1], points[:, 2], T, F)                 # shape: [num_points]\n",
    "    V_grid_3d = V_grid.reshape(points_3d.shape[:-1])\n",
    "\n",
    "    vmin, vmax = V_grid.min()+1, V_grid.min()+offset\n",
    "    thresholds = jnp.linspace(vmin, vmax, num_levels)\n",
    "    chi = euler_curve(V_grid_3d, thresholds, sigma=sigma)\n",
    "    return thresholds, chi"
   ]
  },
  {
   "cell_type": "code",
   "execution_count": 32,
   "id": "8a3f8941",
   "metadata": {},
   "outputs": [
    {
     "data": {
      "text/plain": [
       "[<matplotlib.lines.Line2D at 0x31c42df90>]"
      ]
     },
     "execution_count": 32,
     "metadata": {},
     "output_type": "execute_result"
    },
    {
     "data": {
      "image/png": "[encoded data removed]",
      "text/plain": [
       "<Figure size 640x480 with 1 Axes>"
      ]
     },
     "metadata": {},
     "output_type": "display_data"
    }
   ],
   "source": [
    "thresholds, chi = get_chi(T=0.01, F=0.9, offset=50.0, num_levels=128, sigma=1.5)\n",
    "plt.plot(thresholds, chi)"
   ]
  },
  {
   "cell_type": "markdown",
   "id": "6e628146",
   "metadata": {},
   "source": [
    "#### Get Chi for all T and F values"
   ]
  },
  {
   "cell_type": "code",
   "execution_count": 33,
   "id": "b4feb46b",
   "metadata": {},
   "outputs": [],
   "source": [
    "T_vals = jnp.linspace(0.01, 10.0, 50)\n",
    "F_vals = jnp.linspace(-1.1, 1.1, 60)"
   ]
  },
  {
   "cell_type": "code",
   "execution_count": 36,
   "id": "0a9ba2ee",
   "metadata": {},
   "outputs": [],
   "source": [
    "# Create arrays to store the results for all T and F values\n",
    "num_T = len(T_vals)\n",
    "num_F = len(F_vals)\n",
    "num_levels = 128  # This is the number of threshold levels from get_chi\n",
    "offset = 50.0\n",
    "sigma = 1.5\n",
    "\n",
    "results = {\n",
    "    'T_vals': T_vals,\n",
    "    'F_vals': F_vals,\n",
    "    'all_thresholds': np.zeros((num_T, num_F, num_levels)),\n",
    "    'all_chi': np.zeros((num_T, num_F, num_levels)),\n",
    "}"
   ]
  },
  {
   "cell_type": "code",
   "execution_count": 37,
   "id": "4d95e6c5",
   "metadata": {},
   "outputs": [
    {
     "data": {
      "application/vnd.jupyter.widget-view+json": {
       "model_id": "b586c1fb065d40d7b4971973ccb815d9",
       "version_major": 2,
       "version_minor": 0
      },
      "text/plain": [
       "Processing T values:   0%|          | 0/50 [00:00<?, ?it/s]"
      ]
     },
     "metadata": {},
     "output_type": "display_data"
    },
    {
     "data": {
      "application/vnd.jupyter.widget-view+json": {
       "model_id": "56e7e880806143289a29d37ad33e76dc",
       "version_major": 2,
       "version_minor": 0
      },
      "text/plain": [
       "Processing F values for T=0.01:   0%|          | 0/60 [00:00<?, ?it/s]"
      ]
     },
     "metadata": {},
     "output_type": "display_data"
    },
    {
     "data": {
      "application/vnd.jupyter.widget-view+json": {
       "model_id": "3f63566025a543efb37bbbeb88a01803",
       "version_major": 2,
       "version_minor": 0
      },
      "text/plain": [
       "Processing F values for T=0.21:   0%|          | 0/60 [00:00<?, ?it/s]"
      ]
     },
     "metadata": {},
     "output_type": "display_data"
    },
    {
     "data": {
      "application/vnd.jupyter.widget-view+json": {
       "model_id": "3fd0d3a448d4401daa1fc9300b290b38",
       "version_major": 2,
       "version_minor": 0
      },
      "text/plain": [
       "Processing F values for T=0.42:   0%|          | 0/60 [00:00<?, ?it/s]"
      ]
     },
     "metadata": {},
     "output_type": "display_data"
    },
    {
     "data": {
      "application/vnd.jupyter.widget-view+json": {
       "model_id": "846edf69dc854b0799d3aa1bb158c926",
       "version_major": 2,
       "version_minor": 0
      },
      "text/plain": [
       "Processing F values for T=0.62:   0%|          | 0/60 [00:00<?, ?it/s]"
      ]
     },
     "metadata": {},
     "output_type": "display_data"
    },
    {
     "data": {
      "application/vnd.jupyter.widget-view+json": {
       "model_id": "504194d69e0847bdae24354a19e0ff52",
       "version_major": 2,
       "version_minor": 0
      },
      "text/plain": [
       "Processing F values for T=0.83:   0%|          | 0/60 [00:00<?, ?it/s]"
      ]
     },
     "metadata": {},
     "output_type": "display_data"
    },
    {
     "data": {
      "application/vnd.jupyter.widget-view+json": {
       "model_id": "7128873ee5764e009e92b0075d54e42b",
       "version_major": 2,
       "version_minor": 0
      },
      "text/plain": [
       "Processing F values for T=1.03:   0%|          | 0/60 [00:00<?, ?it/s]"
      ]
     },
     "metadata": {},
     "output_type": "display_data"
    },
    {
     "data": {
      "application/vnd.jupyter.widget-view+json": {
       "model_id": "497553ce21bd404d890d9ed596736915",
       "version_major": 2,
       "version_minor": 0
      },
      "text/plain": [
       "Processing F values for T=1.23:   0%|          | 0/60 [00:00<?, ?it/s]"
      ]
     },
     "metadata": {},
     "output_type": "display_data"
    },
    {
     "data": {
      "application/vnd.jupyter.widget-view+json": {
       "model_id": "5f36c95ff5eb48a4ab2c107afd8e50f8",
       "version_major": 2,
       "version_minor": 0
      },
      "text/plain": [
       "Processing F values for T=1.44:   0%|          | 0/60 [00:00<?, ?it/s]"
      ]
     },
     "metadata": {},
     "output_type": "display_data"
    },
    {
     "data": {
      "application/vnd.jupyter.widget-view+json": {
       "model_id": "8983db7d1c2149f882577fbf6b0c4097",
       "version_major": 2,
       "version_minor": 0
      },
      "text/plain": [
       "Processing F values for T=1.64:   0%|          | 0/60 [00:00<?, ?it/s]"
      ]
     },
     "metadata": {},
     "output_type": "display_data"
    },
    {
     "data": {
      "application/vnd.jupyter.widget-view+json": {
       "model_id": "a3bda8c43e52435486761ba1de5647a8",
       "version_major": 2,
       "version_minor": 0
      },
      "text/plain": [
       "Processing F values for T=1.84:   0%|          | 0/60 [00:00<?, ?it/s]"
      ]
     },
     "metadata": {},
     "output_type": "display_data"
    },
    {
     "data": {
      "application/vnd.jupyter.widget-view+json": {
       "model_id": "c8cba1431aab483d800ece1c49cc64df",
       "version_major": 2,
       "version_minor": 0
      },
      "text/plain": [
       "Processing F values for T=2.05:   0%|          | 0/60 [00:00<?, ?it/s]"
      ]
     },
     "metadata": {},
     "output_type": "display_data"
    },
    {
     "data": {
      "application/vnd.jupyter.widget-view+json": {
       "model_id": "1fcb810f846a46f89175593bee84a7b0",
       "version_major": 2,
       "version_minor": 0
      },
      "text/plain": [
       "Processing F values for T=2.25:   0%|          | 0/60 [00:00<?, ?it/s]"
      ]
     },
     "metadata": {},
     "output_type": "display_data"
    },
    {
     "data": {
      "application/vnd.jupyter.widget-view+json": {
       "model_id": "353950566ffb4361873f06091dec57ac",
       "version_major": 2,
       "version_minor": 0
      },
      "text/plain": [
       "Processing F values for T=2.46:   0%|          | 0/60 [00:00<?, ?it/s]"
      ]
     },
     "metadata": {},
     "output_type": "display_data"
    },
    {
     "data": {
      "application/vnd.jupyter.widget-view+json": {
       "model_id": "d07d97daf0c84e44ac7d54e9c95e5e6d",
       "version_major": 2,
       "version_minor": 0
      },
      "text/plain": [
       "Processing F values for T=2.66:   0%|          | 0/60 [00:00<?, ?it/s]"
      ]
     },
     "metadata": {},
     "output_type": "display_data"
    },
    {
     "data": {
      "application/vnd.jupyter.widget-view+json": {
       "model_id": "e198910c423a4ba7bd4fe24175469964",
       "version_major": 2,
       "version_minor": 0
      },
      "text/plain": [
       "Processing F values for T=2.86:   0%|          | 0/60 [00:00<?, ?it/s]"
      ]
     },
     "metadata": {},
     "output_type": "display_data"
    },
    {
     "data": {
      "application/vnd.jupyter.widget-view+json": {
       "model_id": "9046f951da2841e19c0e41252e744745",
       "version_major": 2,
       "version_minor": 0
      },
      "text/plain": [
       "Processing F values for T=3.07:   0%|          | 0/60 [00:00<?, ?it/s]"
      ]
     },
     "metadata": {},
     "output_type": "display_data"
    },
    {
     "data": {
      "application/vnd.jupyter.widget-view+json": {
       "model_id": "70fa5010137c480bb08b2de085ab273b",
       "version_major": 2,
       "version_minor": 0
      },
      "text/plain": [
       "Processing F values for T=3.27:   0%|          | 0/60 [00:00<?, ?it/s]"
      ]
     },
     "metadata": {},
     "output_type": "display_data"
    },
    {
     "data": {
      "application/vnd.jupyter.widget-view+json": {
       "model_id": "ecab4e1b6f244e349161a47e9cd15707",
       "version_major": 2,
       "version_minor": 0
      },
      "text/plain": [
       "Processing F values for T=3.48:   0%|          | 0/60 [00:00<?, ?it/s]"
      ]
     },
     "metadata": {},
     "output_type": "display_data"
    },
    {
     "data": {
      "application/vnd.jupyter.widget-view+json": {
       "model_id": "0c72c1cd110c4231a488f83783a1f0d2",
       "version_major": 2,
       "version_minor": 0
      },
      "text/plain": [
       "Processing F values for T=3.68:   0%|          | 0/60 [00:00<?, ?it/s]"
      ]
     },
     "metadata": {},
     "output_type": "display_data"
    },
    {
     "data": {
      "application/vnd.jupyter.widget-view+json": {
       "model_id": "a726ae4c5e344d53b70d3833c252fd3e",
       "version_major": 2,
       "version_minor": 0
      },
      "text/plain": [
       "Processing F values for T=3.88:   0%|          | 0/60 [00:00<?, ?it/s]"
      ]
     },
     "metadata": {},
     "output_type": "display_data"
    },
    {
     "data": {
      "application/vnd.jupyter.widget-view+json": {
       "model_id": "1e461eda22244eebaae2a0161f53e1e4",
       "version_major": 2,
       "version_minor": 0
      },
      "text/plain": [
       "Processing F values for T=4.09:   0%|          | 0/60 [00:00<?, ?it/s]"
      ]
     },
     "metadata": {},
     "output_type": "display_data"
    },
    {
     "data": {
      "application/vnd.jupyter.widget-view+json": {
       "model_id": "1ae9401f6e7047ddae5f7706d8994d59",
       "version_major": 2,
       "version_minor": 0
      },
      "text/plain": [
       "Processing F values for T=4.29:   0%|          | 0/60 [00:00<?, ?it/s]"
      ]
     },
     "metadata": {},
     "output_type": "display_data"
    },
    {
     "data": {
      "application/vnd.jupyter.widget-view+json": {
       "model_id": "deb09d21cd9c4d65b4294f4b4d8049ea",
       "version_major": 2,
       "version_minor": 0
      },
      "text/plain": [
       "Processing F values for T=4.50:   0%|          | 0/60 [00:00<?, ?it/s]"
      ]
     },
     "metadata": {},
     "output_type": "display_data"
    },
    {
     "data": {
      "application/vnd.jupyter.widget-view+json": {
       "model_id": "0699f5711b28468581b41e53014a2c1e",
       "version_major": 2,
       "version_minor": 0
      },
      "text/plain": [
       "Processing F values for T=4.70:   0%|          | 0/60 [00:00<?, ?it/s]"
      ]
     },
     "metadata": {},
     "output_type": "display_data"
    },
    {
     "data": {
      "application/vnd.jupyter.widget-view+json": {
       "model_id": "048bf42fe3f64e2cb41adb3a61e5f0c1",
       "version_major": 2,
       "version_minor": 0
      },
      "text/plain": [
       "Processing F values for T=4.90:   0%|          | 0/60 [00:00<?, ?it/s]"
      ]
     },
     "metadata": {},
     "output_type": "display_data"
    },
    {
     "data": {
      "application/vnd.jupyter.widget-view+json": {
       "model_id": "251fed908c5b468fa1fd8d1052226a8f",
       "version_major": 2,
       "version_minor": 0
      },
      "text/plain": [
       "Processing F values for T=5.11:   0%|          | 0/60 [00:00<?, ?it/s]"
      ]
     },
     "metadata": {},
     "output_type": "display_data"
    },
    {
     "data": {
      "application/vnd.jupyter.widget-view+json": {
       "model_id": "ec7fae068ddd4ed989c5e6dcc5f29b29",
       "version_major": 2,
       "version_minor": 0
      },
      "text/plain": [
       "Processing F values for T=5.31:   0%|          | 0/60 [00:00<?, ?it/s]"
      ]
     },
     "metadata": {},
     "output_type": "display_data"
    },
    {
     "data": {
      "application/vnd.jupyter.widget-view+json": {
       "model_id": "d3268d242b1e4f5bbe447dca67c0731b",
       "version_major": 2,
       "version_minor": 0
      },
      "text/plain": [
       "Processing F values for T=5.51:   0%|          | 0/60 [00:00<?, ?it/s]"
      ]
     },
     "metadata": {},
     "output_type": "display_data"
    },
    {
     "data": {
      "application/vnd.jupyter.widget-view+json": {
       "model_id": "b8786de4e5cf43029ad931c16d6da93b",
       "version_major": 2,
       "version_minor": 0
      },
      "text/plain": [
       "Processing F values for T=5.72:   0%|          | 0/60 [00:00<?, ?it/s]"
      ]
     },
     "metadata": {},
     "output_type": "display_data"
    },
    {
     "data": {
      "application/vnd.jupyter.widget-view+json": {
       "model_id": "bca88c01b0f64484a939582d6bd9c980",
       "version_major": 2,
       "version_minor": 0
      },
      "text/plain": [
       "Processing F values for T=5.92:   0%|          | 0/60 [00:00<?, ?it/s]"
      ]
     },
     "metadata": {},
     "output_type": "display_data"
    },
    {
     "data": {
      "application/vnd.jupyter.widget-view+json": {
       "model_id": "d14c7e53a72e45e8a02d8a16fd51d6cc",
       "version_major": 2,
       "version_minor": 0
      },
      "text/plain": [
       "Processing F values for T=6.13:   0%|          | 0/60 [00:00<?, ?it/s]"
      ]
     },
     "metadata": {},
     "output_type": "display_data"
    },
    {
     "data": {
      "application/vnd.jupyter.widget-view+json": {
       "model_id": "e7bf01609d34410db03b687baa31c5d0",
       "version_major": 2,
       "version_minor": 0
      },
      "text/plain": [
       "Processing F values for T=6.33:   0%|          | 0/60 [00:00<?, ?it/s]"
      ]
     },
     "metadata": {},
     "output_type": "display_data"
    },
    {
     "data": {
      "application/vnd.jupyter.widget-view+json": {
       "model_id": "d14eabdd068d40db91ce3320f843a8f8",
       "version_major": 2,
       "version_minor": 0
      },
      "text/plain": [
       "Processing F values for T=6.53:   0%|          | 0/60 [00:00<?, ?it/s]"
      ]
     },
     "metadata": {},
     "output_type": "display_data"
    },
    {
     "data": {
      "application/vnd.jupyter.widget-view+json": {
       "model_id": "d5f101d65f804ac183fdbaba7ec82c76",
       "version_major": 2,
       "version_minor": 0
      },
      "text/plain": [
       "Processing F values for T=6.74:   0%|          | 0/60 [00:00<?, ?it/s]"
      ]
     },
     "metadata": {},
     "output_type": "display_data"
    },
    {
     "data": {
      "application/vnd.jupyter.widget-view+json": {
       "model_id": "bf0e6629c99b4312b959478d5d758248",
       "version_major": 2,
       "version_minor": 0
      },
      "text/plain": [
       "Processing F values for T=6.94:   0%|          | 0/60 [00:00<?, ?it/s]"
      ]
     },
     "metadata": {},
     "output_type": "display_data"
    },
    {
     "data": {
      "application/vnd.jupyter.widget-view+json": {
       "model_id": "d0ce3d5449984a49a7429606a11b3574",
       "version_major": 2,
       "version_minor": 0
      },
      "text/plain": [
       "Processing F values for T=7.15:   0%|          | 0/60 [00:00<?, ?it/s]"
      ]
     },
     "metadata": {},
     "output_type": "display_data"
    },
    {
     "data": {
      "application/vnd.jupyter.widget-view+json": {
       "model_id": "ef3d200ad7dd4260a12e4e44651e7039",
       "version_major": 2,
       "version_minor": 0
      },
      "text/plain": [
       "Processing F values for T=7.35:   0%|          | 0/60 [00:00<?, ?it/s]"
      ]
     },
     "metadata": {},
     "output_type": "display_data"
    },
    {
     "data": {
      "application/vnd.jupyter.widget-view+json": {
       "model_id": "cbfe4d465f1f4db484fd818fe25e97b5",
       "version_major": 2,
       "version_minor": 0
      },
      "text/plain": [
       "Processing F values for T=7.55:   0%|          | 0/60 [00:00<?, ?it/s]"
      ]
     },
     "metadata": {},
     "output_type": "display_data"
    },
    {
     "data": {
      "application/vnd.jupyter.widget-view+json": {
       "model_id": "1106553973b64b26b7c65458adc372c0",
       "version_major": 2,
       "version_minor": 0
      },
      "text/plain": [
       "Processing F values for T=7.76:   0%|          | 0/60 [00:00<?, ?it/s]"
      ]
     },
     "metadata": {},
     "output_type": "display_data"
    },
    {
     "data": {
      "application/vnd.jupyter.widget-view+json": {
       "model_id": "f4ead5cd85e248bfaf3f9c72443e6242",
       "version_major": 2,
       "version_minor": 0
      },
      "text/plain": [
       "Processing F values for T=7.96:   0%|          | 0/60 [00:00<?, ?it/s]"
      ]
     },
     "metadata": {},
     "output_type": "display_data"
    },
    {
     "data": {
      "application/vnd.jupyter.widget-view+json": {
       "model_id": "aa86d847647142a1934d972466eddf94",
       "version_major": 2,
       "version_minor": 0
      },
      "text/plain": [
       "Processing F values for T=8.17:   0%|          | 0/60 [00:00<?, ?it/s]"
      ]
     },
     "metadata": {},
     "output_type": "display_data"
    },
    {
     "data": {
      "application/vnd.jupyter.widget-view+json": {
       "model_id": "7b5c043658df44e59a29cc5fdaec9789",
       "version_major": 2,
       "version_minor": 0
      },
      "text/plain": [
       "Processing F values for T=8.37:   0%|          | 0/60 [00:00<?, ?it/s]"
      ]
     },
     "metadata": {},
     "output_type": "display_data"
    },
    {
     "data": {
      "application/vnd.jupyter.widget-view+json": {
       "model_id": "5e64634451564d03a962a311f3990531",
       "version_major": 2,
       "version_minor": 0
      },
      "text/plain": [
       "Processing F values for T=8.57:   0%|          | 0/60 [00:00<?, ?it/s]"
      ]
     },
     "metadata": {},
     "output_type": "display_data"
    },
    {
     "data": {
      "application/vnd.jupyter.widget-view+json": {
       "model_id": "6df098146668441fbdb14539c2c44163",
       "version_major": 2,
       "version_minor": 0
      },
      "text/plain": [
       "Processing F values for T=8.78:   0%|          | 0/60 [00:00<?, ?it/s]"
      ]
     },
     "metadata": {},
     "output_type": "display_data"
    },
    {
     "data": {
      "application/vnd.jupyter.widget-view+json": {
       "model_id": "004a5f4dc5e247039e5b40b6ef6e52d9",
       "version_major": 2,
       "version_minor": 0
      },
      "text/plain": [
       "Processing F values for T=8.98:   0%|          | 0/60 [00:00<?, ?it/s]"
      ]
     },
     "metadata": {},
     "output_type": "display_data"
    },
    {
     "data": {
      "application/vnd.jupyter.widget-view+json": {
       "model_id": "d48156a9e10841e1bed139be708ace50",
       "version_major": 2,
       "version_minor": 0
      },
      "text/plain": [
       "Processing F values for T=9.18:   0%|          | 0/60 [00:00<?, ?it/s]"
      ]
     },
     "metadata": {},
     "output_type": "display_data"
    },
    {
     "data": {
      "application/vnd.jupyter.widget-view+json": {
       "model_id": "b58b79cfd27e4a5c94c006278ab15150",
       "version_major": 2,
       "version_minor": 0
      },
      "text/plain": [
       "Processing F values for T=9.39:   0%|          | 0/60 [00:00<?, ?it/s]"
      ]
     },
     "metadata": {},
     "output_type": "display_data"
    },
    {
     "data": {
      "application/vnd.jupyter.widget-view+json": {
       "model_id": "058a281b7592491faffdc5d206e4e98d",
       "version_major": 2,
       "version_minor": 0
      },
      "text/plain": [
       "Processing F values for T=9.59:   0%|          | 0/60 [00:00<?, ?it/s]"
      ]
     },
     "metadata": {},
     "output_type": "display_data"
    },
    {
     "data": {
      "application/vnd.jupyter.widget-view+json": {
       "model_id": "fd26b1c9d8ef46998736dca2729b25d4",
       "version_major": 2,
       "version_minor": 0
      },
      "text/plain": [
       "Processing F values for T=9.80:   0%|          | 0/60 [00:00<?, ?it/s]"
      ]
     },
     "metadata": {},
     "output_type": "display_data"
    },
    {
     "data": {
      "application/vnd.jupyter.widget-view+json": {
       "model_id": "a59662c264254c91b5aa7c6f138f89cf",
       "version_major": 2,
       "version_minor": 0
      },
      "text/plain": [
       "Processing F values for T=10.00:   0%|          | 0/60 [00:00<?, ?it/s]"
      ]
     },
     "metadata": {},
     "output_type": "display_data"
    }
   ],
   "source": [
    "# Calculate Euler characteristic for each pair of (T, F) values\n",
    "for i, T in enumerate(tqdm(T_vals, desc=\"Processing T values\")):\n",
    "    for j, F in enumerate(tqdm(F_vals, desc=f\"Processing F values for T={T:.2f}\", leave=False)):\n",
    "        thresholds, chi = get_chi(T=T, F=F, offset=offset, num_levels=num_levels, sigma=sigma)\n",
    "        # Store all thresholds and chi values\n",
    "        results['all_thresholds'][i, j, :] = thresholds\n",
    "        results['all_chi'][i, j, :] = chi"
   ]
  },
  {
   "cell_type": "markdown",
   "id": "568cacfa",
   "metadata": {},
   "source": [
    "Cache results"
   ]
  },
  {
   "cell_type": "code",
   "execution_count": null,
   "id": "0c436930",
   "metadata": {},
   "outputs": [],
   "source": [
    "import pickle\n",
    "\n",
    "with open(\"chi_results.pkl\", \"wb\") as f:\n",
    "    pickle.dump(results, f)"
   ]
  },
  {
   "cell_type": "code",
   "execution_count": null,
   "id": "361396b5",
   "metadata": {},
   "outputs": [
    {
     "data": {
      "application/vnd.jupyter.widget-view+json": {
       "model_id": "a06db83e4d5d4a2ab08f2ebacdaa48ea",
       "version_major": 2,
       "version_minor": 0
      },
      "text/plain": [
       "interactive(children=(IntSlider(value=25, description='T index', max=49), IntSlider(value=30, description='F i…"
      ]
     },
     "metadata": {},
     "output_type": "display_data"
    },
    {
     "data": {
      "text/plain": [
       "<function __main__.plot_euler_characteristic(T_idx, F_idx)>"
      ]
     },
     "execution_count": 50,
     "metadata": {},
     "output_type": "execute_result"
    }
   ],
   "source": [
    "from ipywidgets import interact, IntSlider\n",
    "\n",
    "import matplotlib.pyplot as plt\n",
    "\n",
    "def plot_euler_characteristic(T_idx, F_idx):\n",
    "    # Get the indices closest to the selected T and F values\n",
    "    T_value = results['T_vals'][T_idx]\n",
    "    F_value = results['F_vals'][F_idx]\n",
    "\n",
    "    # Get the corresponding thresholds and chi values\n",
    "    thresholds = results['all_thresholds'][T_idx, F_idx, :]\n",
    "    chi = results['all_chi'][T_idx, F_idx, :]\n",
    "\n",
    "    # Create the plot\n",
    "    plt.figure(figsize=(10, 6))\n",
    "    plt.plot(thresholds, chi, 'b-', linewidth=2)\n",
    "    plt.ylim(-1, 4)\n",
    "    plt.xlabel('Threshold Value')\n",
    "    plt.ylabel('Euler Characteristic (χ)')\n",
    "    plt.title(f'Euler Characteristic vs Threshold (T={T_value:.2f}, F={F_value:.2f})')\n",
    "    plt.grid(True, alpha=0.3)\n",
    "    plt.tight_layout()\n",
    "    plt.show()\n",
    "\n",
    "# Create interactive sliders\n",
    "interact(\n",
    "    plot_euler_characteristic,\n",
    "    T_idx=IntSlider(min=0, max=num_T-1, step=1, value=num_T//2, description='T index'),\n",
    "    F_idx=IntSlider(min=0, max=num_F-1, step=1, value=num_F//2, description='F index')\n",
    ")\n"
   ]
  },
  {
   "cell_type": "markdown",
   "id": "86f6ca50",
   "metadata": {},
   "source": [
    "### Jump count analysis"
   ]
  },
  {
   "cell_type": "code",
   "execution_count": 53,
   "id": "7edd222d",
   "metadata": {},
   "outputs": [],
   "source": [
    "T_vals       = results[\"T_vals\"]            # shape (50,)\n",
    "F_vals       = results[\"F_vals\"]            # shape (60,)\n",
    "all_chi      = results[\"all_chi\"]           # shape (50, 60, 128)\n",
    "\n",
    "# Δχ between successive α‑levels, |Δχ| counts one Morse event\n",
    "delta_chi    = np.abs(np.diff(all_chi, axis=2))     # shape (50,60,127)\n",
    "jump_count   = delta_chi.sum(axis=2)                # shape (50,60)"
   ]
  },
  {
   "cell_type": "code",
   "execution_count": null,
   "id": "36242298",
   "metadata": {},
   "outputs": [
    {
     "data": {
      "image/png": "[encoded data removed]",
      "text/plain": [
       "<Figure size 600x500 with 2 Axes>"
      ]
     },
     "metadata": {},
     "output_type": "display_data"
    }
   ],
   "source": [
    "fig, ax = plt.subplots(figsize=(6,5))\n",
    "\n",
    "sns.set_theme(style=\"white\")\n",
    "\n",
    "im = ax.imshow(jump_count,            # 2‑D scalar field\n",
    "               origin='lower',\n",
    "               aspect='auto',\n",
    "               extent=[F_vals[0], F_vals[-1], T_vals[0], T_vals[-1]])\n",
    "\n",
    "ax.set_xlabel(\"Force Log(2000F)\")\n",
    "ax.set_ylabel(\"Temperature T\")\n",
    "cbar = fig.colorbar(im, ax=ax, label=r\"$N_\\mathrm{events}$\")\n",
    "\n",
    "plt.tight_layout()\n",
    "plt.show()"
   ]
  },
  {
   "cell_type": "markdown",
   "id": "329e3fee",
   "metadata": {},
   "source": [
    "### Plataeu height"
   ]
  },
  {
   "cell_type": "code",
   "execution_count": null,
   "id": "a812146c",
   "metadata": {},
   "outputs": [],
   "source": [
    "T_vals       = results[\"T_vals\"]             # (50,)\n",
    "F_vals       = results[\"F_vals\"]             # (60,)\n",
    "alpha_grid   = results[\"all_thresholds\"]     # (50,60,128)\n",
    "chi_grid     = results[\"all_chi\"]            # (50,60,128)\n",
    "\n",
    "# χ_min(T,F) needed for the baseline\n",
    "chi_min      = chi_grid.min(axis=2, keepdims=True)        # (50,60,1)\n",
    "\n",
    "# integrand = |χ - χ_min|\n",
    "abs_curve    = np.abs(chi_grid - chi_min)                 # (50,60,128)\n",
    "\n",
    "# area under the curve via the trapezoidal rule for *non‑uniform* α\n",
    "area_map = np.trapezoid(abs_curve, x=alpha_grid, axis=2)      # (50,60)"
   ]
  },
  {
   "cell_type": "code",
   "execution_count": 70,
   "id": "4885ec00",
   "metadata": {},
   "outputs": [],
   "source": [
    "# divide by range of α so units ~\"average plateau height\"\n",
    "alpha_span = alpha_grid.max(axis=2) - alpha_grid.min(axis=2)   # (50,60)\n",
    "area_norm  = area_map / alpha_span"
   ]
  },
  {
   "cell_type": "code",
   "execution_count": 76,
   "id": "5f44fca3",
   "metadata": {},
   "outputs": [
    {
     "data": {
      "image/png": "[encoded data removed]",
      "text/plain": [
       "<Figure size 600x500 with 2 Axes>"
      ]
     },
     "metadata": {},
     "output_type": "display_data"
    }
   ],
   "source": [
    "import matplotlib.pyplot as plt\n",
    "\n",
    "fig, ax = plt.subplots(figsize=(6,5))\n",
    "im = ax.imshow(area_norm, origin=\"lower\", aspect=\"auto\",\n",
    "               extent=[F_vals[0], F_vals[-1], T_vals[0], T_vals[-1]],\n",
    "               vmin=0, vmax=3.0,\n",
    "               cmap=\"viridis\")          # or any perceptually uniform map\n",
    "fig.colorbar(im, ax=ax, label=r\"Weighted plateau area $A$\")\n",
    "ax.set_xlabel(\"Force Log(2000F)\")\n",
    "ax.set_ylabel(\"Temperature T\")\n",
    "plt.tight_layout(); plt.show()"
   ]
  },
  {
   "cell_type": "markdown",
   "id": "03568d84",
   "metadata": {},
   "source": [
    "Other metrics"
   ]
  },
  {
   "cell_type": "code",
   "execution_count": 78,
   "id": "5aa99332",
   "metadata": {},
   "outputs": [],
   "source": [
    "chi = results[\"all_chi\"]          # shape (NT, NF, Nα)\n",
    "alpha = results[\"all_thresholds\"] # same shape\n",
    "dα = np.diff(alpha, axis=2)       # α_k+1 – α_k  (NT,NF,Nα-1)\n",
    "Δχ = np.diff(chi, axis=2)         # χ_k+1 – χ_k\n",
    "absΔχ = np.abs(Δχ)\n",
    "α_span = alpha[..., -1] - alpha[..., 0]      # total α­range  (NT,NF)"
   ]
  },
  {
   "cell_type": "markdown",
   "id": "ec895455",
   "metadata": {},
   "source": [
    "### Event density\n",
    "\n",
    "$D = \\frac{\\sum |Δχ|}{\\alpha_{\\max}-\\alpha_{\\min}}$\n",
    "\n",
    "Counts how many birth/death events occur per unit energy.\n",
    "Rises when lots of shallow minima/saddles appear."
   ]
  },
  {
   "cell_type": "code",
   "execution_count": 79,
   "id": "9131ed19",
   "metadata": {},
   "outputs": [],
   "source": [
    "D = absΔχ.sum(axis=2) / α_span          # (NT,NF)"
   ]
  },
  {
   "cell_type": "code",
   "execution_count": 94,
   "id": "6415b8e1",
   "metadata": {},
   "outputs": [
    {
     "data": {
      "image/png": "[encoded data removed]",
      "text/plain": [
       "<Figure size 600x500 with 2 Axes>"
      ]
     },
     "metadata": {},
     "output_type": "display_data"
    }
   ],
   "source": [
    "fig, ax = plt.subplots(figsize=(6,5))\n",
    "im = ax.imshow(D, origin='lower', aspect='auto',\n",
    "               extent=[F_vals[0], F_vals[-1], T_vals[0], T_vals[-1]],\n",
    "               cmap='inferno')\n",
    "fig.colorbar(im, ax=ax, label=r'Event density $D$  (events per unit $\\alpha$)')\n",
    "ax.set_xlabel(r'Force  $\\log_{10}(2000F)$')\n",
    "ax.set_ylabel(r'Temperature $T$')\n",
    "ax.set_title('Density of new minima / saddles')\n",
    "plt.tight_layout(); plt.show()"
   ]
  },
  {
   "cell_type": "markdown",
   "id": "3fb57111",
   "metadata": {},
   "source": [
    "### Plateau‑weighted jump size\n",
    "\n",
    "$P = \\sum |Δχ| \\,\\Delta\\alpha$\n",
    "\n",
    "Same as the “area under $|χ–χ_min|$” but easier to compute directly from\n",
    "Δχ and the local α‑step:"
   ]
  },
  {
   "cell_type": "code",
   "execution_count": 97,
   "id": "996603bd",
   "metadata": {},
   "outputs": [],
   "source": [
    "P = (absΔχ * dα).sum(axis=2)            # (NT,NF)"
   ]
  },
  {
   "cell_type": "code",
   "execution_count": 100,
   "id": "ece9aeb5",
   "metadata": {},
   "outputs": [
    {
     "data": {
      "image/png": "[encoded data removed]",
      "text/plain": [
       "<Figure size 600x500 with 2 Axes>"
      ]
     },
     "metadata": {},
     "output_type": "display_data"
    }
   ],
   "source": [
    "import matplotlib.pyplot as plt\n",
    "\n",
    "fig, ax = plt.subplots(figsize=(6,5))\n",
    "im = ax.imshow(P, origin='lower', aspect='auto',\n",
    "               extent=[F_vals[0], F_vals[-1], T_vals[0], T_vals[-1]],\n",
    "               cmap='inferno')\n",
    "fig.colorbar(im, ax=ax, label=r'Plateau size')\n",
    "ax.set_xlabel(r'Force  $\\log_{10}(2000F)$')\n",
    "ax.set_ylabel(r'Temperature $T$')\n",
    "ax.set_title('Plateau weighted jump size')\n",
    "plt.tight_layout(); plt.show()"
   ]
  },
  {
   "cell_type": "markdown",
   "id": "af041e68",
   "metadata": {},
   "source": [
    "### Signed chi integral\n",
    "\n",
    "$I = \\displaystyle\\int\\! \\chi(\\alpha)\\,d\\alpha$\n",
    "\n",
    "Positive when components dominate, negative when holes dominate."
   ]
  },
  {
   "cell_type": "code",
   "execution_count": 83,
   "id": "441fa3dd",
   "metadata": {},
   "outputs": [],
   "source": [
    "I = np.trapezoid(chi, x=alpha, axis=2)      # (NT,NF)"
   ]
  },
  {
   "cell_type": "code",
   "execution_count": 102,
   "id": "b29ec496",
   "metadata": {},
   "outputs": [
    {
     "data": {
      "image/png": "[encoded data removed]",
      "text/plain": [
       "<Figure size 600x500 with 2 Axes>"
      ]
     },
     "metadata": {},
     "output_type": "display_data"
    }
   ],
   "source": [
    "import matplotlib.pyplot as plt\n",
    "\n",
    "fig, ax = plt.subplots(figsize=(6,5))\n",
    "im = ax.imshow(I, origin='lower', aspect='auto',\n",
    "               extent=[F_vals[0], F_vals[-1], T_vals[0], T_vals[-1]],\n",
    "               cmap='inferno')\n",
    "fig.colorbar(im, ax=ax, label=r'I')\n",
    "ax.set_xlabel(r'Force  $\\log_{10}(2000F)$')\n",
    "ax.set_ylabel(r'Temperature $T$')\n",
    "ax.set_title('Signed integral')\n",
    "plt.tight_layout(); plt.show()"
   ]
  },
  {
   "cell_type": "markdown",
   "id": "d26a22b7",
   "metadata": {},
   "source": [
    "### Earliest significant jump\n",
    "\n",
    "Energy at which |χ| first changes by ≥ 2."
   ]
  },
  {
   "cell_type": "code",
   "execution_count": 105,
   "id": "b67e4a86",
   "metadata": {},
   "outputs": [],
   "source": [
    "mask = absΔχ >= 2\n",
    "idx_first = mask.argmax(axis=2)                     # 0 if never true\n",
    "has_jump  = mask.any(axis=2)\n",
    "α_first_jump = np.where(has_jump,\n",
    "                        np.take_along_axis(alpha[...,1:], idx_first[...,None], 2)[...,0],\n",
    "                        np.nan)"
   ]
  },
  {
   "cell_type": "markdown",
   "id": "cdaa7120",
   "metadata": {},
   "source": [
    "Good for seeing where a qualitatively new basin (or pair of basins)\n",
    "is born.\n",
    "\n",
    "Plot α_first_jump with cmap='viridis'; NaNs → no big jump detected."
   ]
  },
  {
   "cell_type": "code",
   "execution_count": 109,
   "id": "d15888e4",
   "metadata": {},
   "outputs": [
    {
     "data": {
      "image/png": "[encoded data removed]",
      "text/plain": [
       "<Figure size 600x500 with 2 Axes>"
      ]
     },
     "metadata": {},
     "output_type": "display_data"
    }
   ],
   "source": [
    "# --- mask NaNs so they appear as blank/white cells --------------------------\n",
    "alpha_map = np.ma.masked_invalid(α_first_jump)   # (NT, NF)\n",
    "\n",
    "fig, ax = plt.subplots(figsize=(6,5))\n",
    "\n",
    "im = ax.imshow(alpha_map,\n",
    "               origin='lower',            # T_vals[0], F_vals[0] in lower‑left\n",
    "               aspect='auto',\n",
    "               extent=[F_vals[0], F_vals[-1],    # x‑axis  (F)\n",
    "                       T_vals[0], T_vals[-1]],   # y‑axis  (T)\n",
    "               cmap='plasma')              # or 'viridis', 'magma', …\n",
    "\n",
    "cbar = fig.colorbar(im, ax=ax)\n",
    "\n",
    "ax.set_xlabel(r'Force  $\\log_{10}(2000F)$')\n",
    "ax.set_ylabel(r'Temperature  $T$')\n",
    "ax.set_title(r'Energy where first large Euler jump occurs')\n",
    "plt.tight_layout()\n",
    "plt.show()"
   ]
  },
  {
   "cell_type": "markdown",
   "id": "f4477813",
   "metadata": {},
   "source": [
    "## Method 2: Persistent cohomology\n",
    "\n",
    "<!-- TODO -->"
   ]
  }
 ],
 "metadata": {
  "kernelspec": {
   "display_name": "onsagernet-UfliW3jQ-py3.13",
   "language": "python",
   "name": "python3"
  },
  "language_info": {
   "codemirror_mode": {
    "name": "ipython",
    "version": 3
   },
   "file_extension": ".py",
   "mimetype": "text/x-python",
   "name": "python",
   "nbconvert_exporter": "python",
   "pygments_lexer": "ipython3",
   "version": "3.13.3"
  }
 },
 "nbformat": 4,
 "nbformat_minor": 5
}
